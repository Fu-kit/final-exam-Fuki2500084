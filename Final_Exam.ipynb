{
  "nbformat": 4,
  "nbformat_minor": 0,
  "metadata": {
    "colab": {
      "provenance": [],
      "authorship_tag": "ABX9TyO/Zfijj/ZrZc0UIfpkp7+g",
      "include_colab_link": true
    },
    "kernelspec": {
      "name": "python3",
      "display_name": "Python 3"
    },
    "language_info": {
      "name": "python"
    }
  },
  "cells": [
    {
      "cell_type": "markdown",
      "metadata": {
        "id": "view-in-github",
        "colab_type": "text"
      },
      "source": [
        "<a href=\"https://colab.research.google.com/github/Fu-kit/final-exam-Fuki2500084/blob/main/Final_Exam.ipynb\" target=\"_parent\"><img src=\"https://colab.research.google.com/assets/colab-badge.svg\" alt=\"Open In Colab\"/></a>"
      ]
    },
    {
      "cell_type": "code",
      "execution_count": 23,
      "metadata": {
        "id": "t0vfSBtIjvku",
        "colab": {
          "base_uri": "https://localhost:8080/"
        },
        "outputId": "c8fb0f7d-73ab-428f-b1f0-e0f71ce8b347"
      },
      "outputs": [
        {
          "output_type": "stream",
          "name": "stdout",
          "text": [
            "Error: Product not found.\n",
            "Error: Quantity must be a positive integer.\n",
            "[]\n"
          ]
        }
      ],
      "source": [
        "# Section 1.1 - Get product price from predefined bakery items\n",
        "# Course Concept: Week 5: Functions, Week 9: Dictionaries, Week 3: If-Else Statements\n",
        "# AI Interaction: Asked AI to break down the implementation into steps and write a dictionary-based function with simple validation\n",
        "\n",
        "def get_product_price(product_name):\n",
        "    \"\"\"\n",
        "    Returns the price of a given bakery product.\n",
        "    If the product is not found, returns 'Product not found'.\n",
        "    \"\"\"\n",
        "    prices = {\n",
        "        \"Croissant\": 3.50,\n",
        "        \"Muffin\": 2.75,\n",
        "        \"Scone\": 4.00\n",
        "    }\n",
        "\n",
        "    price = prices.get(product_name)\n",
        "    if price is not None:\n",
        "        return price\n",
        "    else:\n",
        "        return \"Product not found\"\n",
        "\n",
        "# Simple tests of my function:\n",
        "print(get_product_price(\"Croissant\"))  # Expected output: 3.5\n",
        "print(get_product_price(\"Muffin\"))     # Expected output: 2.75\n",
        "print(get_product_price(\"Scone\"))      # Expected output: 4.0\n",
        "print(get_product_price(\"Bagel\"))      # Expected output: Product not found\n",
        "\n",
        "\n",
        "# Section 1.2 - Add an item to the order list with validation\n",
        "# Course Concept: Week 5: Functions, Week 6: Function + List combination, Week 9: Dictionaries, Week 3: If-Else Statements\n",
        "# AI Interaction: Asked AI to structure a function that calls another, validates input, and modifies a list of dictionaries\n",
        "\n",
        "def add_order_item(order_list, product_name, quantity):\n",
        "    \"\"\"\n",
        "    Adds a new item to the order_list if product is valid and quantity is positive.\n",
        "    Prints an error and skips addition if inputs are invalid.\n",
        "    \"\"\"\n",
        "    price = get_product_price(product_name)\n",
        "\n",
        "    if price == \"Product not found\":\n",
        "        print(\"Error: Product not found.\")\n",
        "        return\n",
        "\n",
        "    if not isinstance(quantity, int) or quantity <= 0:\n",
        "        print(\"Error: Quantity must be a positive integer.\")\n",
        "        return\n",
        "\n",
        "    item = {\n",
        "        \"product\": product_name,\n",
        "        \"qty\": quantity,\n",
        "        \"price\": price\n",
        "    }\n",
        "    order_list.append(item)\n",
        "\n",
        "# Simple test 1 of my function:\n",
        "order = []\n",
        "add_order_item(order, \"Croissant\", 2)\n",
        "add_order_item(order, \"Scone\", 1)\n",
        "print(order)\n",
        "# Expected output:  [{'product': 'Croissant', 'qty': 2, 'price': 3.5}, {'product': 'Scone', 'qty': 1, 'price': 4.0}]\n",
        "\n",
        "# Simple test 2 of my function:\n",
        "order = []\n",
        "add_order_item(order, \"Bagel\", 3)          # Invalid product\n",
        "add_order_item(order, \"Muffin\", -1)        # Invalid quantity\n",
        "print(order)\n",
        "# Expected output:\n",
        "#Error: Product not found.\n",
        "#Error: Quantity must be a positive integer.\n",
        "# []\n",
        "\n",
        "\n",
        "#Step 3: Define calculate_order_total(order_list)\n",
        "# Section 1.3 - Calculate and display the total cost of an order\n",
        "# Course Concept: Week 6: Functions + Loops, Week 9: Dictionaries, Week 3: If-Else Statements\n",
        "# AI Interaction: Asked AI to construct a loop to process a list of dictionaries and sum values\n",
        "\n",
        "def calculate_order_total(order_list):\n",
        "    \"\"\"\n",
        "    Iterates through the order list, prints each item's subtotal,\n",
        "    and displays the grand total at the end.\n",
        "    \"\"\"\n",
        "    grand_total = 0\n",
        "\n",
        "    for item in order_list:\n",
        "        product = item[\"product\"]\n",
        "        qty = item[\"qty\"]\n",
        "        price = item[\"price\"]\n",
        "        subtotal = qty * price\n",
        "        print(f\"{product}: {qty} x ${price:.2f} = ${subtotal:.2f}\")\n",
        "        grand_total += subtotal\n",
        "\n",
        "    print(f\"Grand Total: ${grand_total:.2f}\")\n",
        "\n",
        "# Simple test of your function:\n",
        "order = []\n",
        "add_order_item(order, \"Croissant\", 2)\n",
        "add_order_item(order, \"Muffin\", 3)\n",
        "add_order_item(order, \"Scone\", 1)\n",
        "calculate_order_total(order)\n",
        "\n",
        "# Expected output:\n",
        "# Croissant: 2 x $3.50 = $7.00\n",
        "# Muffin: 3 x $2.75 = $8.25\n",
        "# Scone: 1 x $4.00 = $4.00\n",
        "# Grand Total: $19.25"
      ]
    },
    {
      "cell_type": "code",
      "source": [],
      "metadata": {
        "id": "BMwIDtGZ0HYq"
      },
      "execution_count": null,
      "outputs": []
    }
  ]
}