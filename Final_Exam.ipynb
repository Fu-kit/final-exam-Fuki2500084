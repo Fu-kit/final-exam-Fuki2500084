{
  "nbformat": 4,
  "nbformat_minor": 0,
  "metadata": {
    "colab": {
      "provenance": [],
      "authorship_tag": "ABX9TyOkjXymY2wt8xV0Dyzqa8Vm",
      "include_colab_link": true
    },
    "kernelspec": {
      "name": "python3",
      "display_name": "Python 3"
    },
    "language_info": {
      "name": "python"
    }
  },
  "cells": [
    {
      "cell_type": "markdown",
      "metadata": {
        "id": "view-in-github",
        "colab_type": "text"
      },
      "source": [
        "<a href=\"https://colab.research.google.com/github/Fu-kit/final-exam-Fuki2500084/blob/main/Final_Exam.ipynb\" target=\"_parent\"><img src=\"https://colab.research.google.com/assets/colab-badge.svg\" alt=\"Open In Colab\"/></a>"
      ]
    },
    {
      "cell_type": "code",
      "execution_count": 1,
      "metadata": {
        "id": "t0vfSBtIjvku"
      },
      "outputs": [],
      "source": [
        "#🔹 Step 1: Create a function to get the price of a product\n",
        "#Function Name: get_product_price(product_name)\n",
        "#Purpose: Look up a product's price using a dictionary.\n",
        "#Behavior: Return the price if the product exists; otherwise return \"Product not found\".\n",
        "#Concepts Used: Dictionaries (lookup), conditionals (if/else)\n",
        "\n",
        "\n",
        "\n",
        "# Section 1.1 - Get bakery product price\n",
        "# Course constraint:\n",
        "# Week 2 (Dictionaries)\n",
        "# Week 3 (Conditional statements)\n",
        "\n",
        "def get_product_price(product_name):\n",
        "    \"\"\"\n",
        "    Returns the price for a bakery product.\n",
        "\n",
        "    Example:\n",
        "    >>> get_product_price(\"Croissant\")\n",
        "    3.50\n",
        "\n",
        "    >>> get_product_price(\"Bread\")\n",
        "    'Product not found'\n",
        "    \"\"\"\n",
        "    prices = {\n",
        "        \"Croissant\": 3.50,\n",
        "        \"Muffin\": 2.75,\n",
        "        \"Scone\": 4.00\n",
        "    }  # Week 2: dictionary\n",
        "\n",
        "    if product_name in prices:  # Week 3: conditional\n",
        "        return prices[product_name]\n",
        "    else:\n",
        "        return \"Product not found\"\n",
        "\n",
        "#🔹 Step 2: Create a function to add an order item\n",
        "#Function Name: add_order_item(order_list, product_name, quantity)\n",
        "#Purpose: Add an item to the order list with quantity and unit price.\n",
        "#Behavior: Check if quantity > 0\n",
        "#Call get_product_price() to validate the product\n",
        "#If valid, add a dictionary like {\"product\": ..., \"qty\": ..., \"price\": ...} to the list\n",
        "#Concepts Used: List of dictionaries, input validation, function reuse\n",
        "\n",
        "#🔹 Step 3: Create a function to calculate and print the order total\n",
        "#Function Name: calculate_order_total(order_list)\n",
        "#Purpose: Print each item subtotal and the final total.\n",
        "#Behavior:\n",
        "#Loop through order_list\n",
        "#Multiply qty * price for each item\n",
        "#Print each item’s subtotal and a final grand total\n",
        "#Concepts Used: Looping, arithmetic, list iteration, formatting output\n",
        "\n",
        "#🔹 Step 4: Test each function with valid and invalid inputs\n",
        "#Provide test examples to verify:\n",
        "#Product not found\n",
        "#Quantity invalid (e.g., 0 or negative)\n",
        "#Valid input with multiple items\n",
        "\n",
        "#🔹 Step 5: Add Colab comments explaining which weeks' concepts are used\n",
        "#Example comments:\n",
        "## Using dictionary lookup from Week 2\n",
        "## This is a conditional from Week 3\n",
        "## Loop through a list from Week 4\n",
        "## These functions interact as taught in Week 6"
      ]
    }
  ]
}