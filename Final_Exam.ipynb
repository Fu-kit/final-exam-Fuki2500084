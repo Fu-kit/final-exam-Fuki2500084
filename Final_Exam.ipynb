{
  "nbformat": 4,
  "nbformat_minor": 0,
  "metadata": {
    "colab": {
      "provenance": [],
      "authorship_tag": "ABX9TyMZcION5MrpyoSYBqSjpFue",
      "include_colab_link": true
    },
    "kernelspec": {
      "name": "python3",
      "display_name": "Python 3"
    },
    "language_info": {
      "name": "python"
    }
  },
  "cells": [
    {
      "cell_type": "markdown",
      "metadata": {
        "id": "view-in-github",
        "colab_type": "text"
      },
      "source": [
        "<a href=\"https://colab.research.google.com/github/Fu-kit/final-exam-Fuki2500084/blob/main/Final_Exam.ipynb\" target=\"_parent\"><img src=\"https://colab.research.google.com/assets/colab-badge.svg\" alt=\"Open In Colab\"/></a>"
      ]
    },
    {
      "cell_type": "code",
      "execution_count": 6,
      "metadata": {
        "id": "t0vfSBtIjvku",
        "outputId": "e7aa188c-e2eb-4587-b518-ea34a92a045c",
        "colab": {
          "base_uri": "https://localhost:8080/"
        }
      },
      "outputs": [
        {
          "output_type": "stream",
          "name": "stdout",
          "text": [
            "3.5\n",
            "2.75\n",
            "4.0\n",
            "Product not found\n"
          ]
        }
      ],
      "source": [
        "def get_product_price(product_name):\n",
        "    prices = {\n",
        "        \"Croissant\": 3.50,\n",
        "        \"Muffin\": 2.75,\n",
        "        \"Scone\": 4.00\n",
        "    }\n",
        "\n",
        "    price = prices.get(product_name)\n",
        "    if price is not None:\n",
        "        return price\n",
        "    else:\n",
        "        return \"Product not found\"\n",
        "\n",
        "print(get_product_price(\"Croissant\"))  # Expected: 3.5\n",
        "print(get_product_price(\"Muffin\"))     # Expected: 2.75\n",
        "print(get_product_price(\"Scone\"))      # Expected: 4.0\n",
        "print(get_product_price(\"Bagel\"))      # Expected: Product not found"
      ]
    }
  ]
}